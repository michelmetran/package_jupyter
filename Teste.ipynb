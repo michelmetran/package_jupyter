{
 "cells": [
  {
   "cell_type": "code",
   "execution_count": null,
   "metadata": {},
   "outputs": [],
   "source": [
    "# %load '../codes/files/get_jupyternotebook_name.py'\n",
    "def get_jupyternotebook_name():\n",
    "    \"\"\"\n",
    "    Returns the name of the current notebook as a string\n",
    "    From https://mail.scipy.org/pipermail/ipython-dev/2014-June/014096.html\n",
    "    :return: Returns the name of the current notebook as a string\n",
    "    \"\"\"\n",
    "    # Import Packages\n",
    "    from IPython.core.display import Javascript\n",
    "    from IPython.display import display\n",
    "\n",
    "    display(Javascript('IPython.notebook.kernel.execute(\"theNotebook = \" + \\\n",
    "    \"\\'\"+IPython.notebook.notebook_name+\"\\'\");'))\n",
    "\n",
    "    # Result\n",
    "    return theNotebook\n"
   ]
  },
  {
   "cell_type": "code",
   "execution_count": null,
   "metadata": {},
   "outputs": [],
   "source": [
    "#get_jupyternotebook_name()"
   ]
  },
  {
   "cell_type": "code",
   "execution_count": null,
   "metadata": {},
   "outputs": [],
   "source": [
    "%%javascript\n",
    "\n",
    "var kernel = IPython.notebook.kernel;\n",
    "var nb = IPython.notebook;\n",
    "var command = 'ipynb_pathname = \"' + nb.base_url + nb.notebook_path + '\"';\n",
    "kernel.execute(command);"
   ]
  },
  {
   "cell_type": "code",
   "execution_count": null,
   "metadata": {},
   "outputs": [],
   "source": [
    "ipynb_pathname"
   ]
  },
  {
   "cell_type": "markdown",
   "metadata": {},
   "source": [
    "# Export"
   ]
  },
  {
   "cell_type": "code",
   "execution_count": null,
   "metadata": {},
   "outputs": [],
   "source": [
    "%run '../codes/files/export_jupyter.py'\n",
    "\n",
    "export_jupyter(ipynb_filename, 'docs', ['html', 'markdown', 'pdf', 'python'], False)"
   ]
  },
  {
   "cell_type": "code",
   "execution_count": null,
   "metadata": {},
   "outputs": [],
   "source": []
  },
  {
   "cell_type": "code",
   "execution_count": null,
   "metadata": {},
   "outputs": [],
   "source": [
    "!jupyter-nbconvert jupyter.ipynb\\\n",
    "--to pdf \\\n",
    "--output Teste\\\n",
    "--TagRemovePreprocessor.enabled=True\\\n",
    "--TemplateExporter.exclude_markdown=True\\\n",
    "--TemplateExporter.exclude_input_prompt=True\\\n",
    "--TagRemovePreprocessor.remove_cell_tags='[\"remove_cell\"]'"
   ]
  },
  {
   "cell_type": "markdown",
   "metadata": {},
   "source": [
    "Quero saber como exportar somente algumas células.\n",
    "'https://stackoverflow.com/questions/57701538/jupyter-notebook-nbconvert-without-magic-commands-w-o-markdown\n"
   ]
  },
  {
   "cell_type": "markdown",
   "metadata": {},
   "source": [
    "# GitHub"
   ]
  },
  {
   "cell_type": "code",
   "execution_count": null,
   "metadata": {},
   "outputs": [],
   "source": [
    "%run '../codes/git/update_github.py'"
   ]
  },
  {
   "cell_type": "code",
   "execution_count": null,
   "metadata": {},
   "outputs": [],
   "source": [
    "git_full('/home/michel/Geodata/SourceCode/package_jupyter', '.', 'Atualizando')"
   ]
  },
  {
   "cell_type": "markdown",
   "metadata": {},
   "source": [
    "# Outros"
   ]
  },
  {
   "cell_type": "code",
   "execution_count": null,
   "metadata": {},
   "outputs": [],
   "source": [
    "import os\n",
    "os.system('jupyter-nbconvert --to python jupyter.ipynb --stdout --TemplateExporter.exclude_input_prompt=True')"
   ]
  },
  {
   "cell_type": "code",
   "execution_count": null,
   "metadata": {},
   "outputs": [],
   "source": [
    "import os\n",
    "os.system('nbstripout --install --attributes .gitattributes')"
   ]
  },
  {
   "cell_type": "markdown",
   "metadata": {},
   "source": [
    "# Referêcias\n",
    "A partir do post <a title=\"Link do Folium\" href=\"https://towardsdatascience.com/jupyter-notebook-extensions-517fa69d2231\" target=\"_blank\">**_Jupyter Notebook Extensions_**</a>.\n",
    "\n",
    "A partir do post <a title=\"Link do Folium\" href=\"https://www.dataquest.io/blog/jupyter-notebook-tips-tricks-shortcuts/\" target=\"_blank\">**_28 Jupyter Notebook Tips, Tricks, and Shortcuts_**</a>, "
   ]
  }
 ],
 "metadata": {
  "kernelspec": {
   "display_name": "Python [conda env:pablocarreira-py36] *",
   "language": "python",
   "name": "conda-env-pablocarreira-py36-py"
  },
  "language_info": {
   "codemirror_mode": {
    "name": "ipython",
    "version": 3
   },
   "file_extension": ".py",
   "mimetype": "text/x-python",
   "name": "python",
   "nbconvert_exporter": "python",
   "pygments_lexer": "ipython3",
   "version": "3.6.10"
  },
  "toc": {
   "base_numbering": 1,
   "nav_menu": {},
   "number_sections": true,
   "sideBar": true,
   "skip_h1_title": false,
   "title_cell": "Table of Contents",
   "title_sidebar": "Contents",
   "toc_cell": false,
   "toc_position": {
    "height": "calc(100% - 180px)",
    "left": "10px",
    "top": "150px",
    "width": "374.4px"
   },
   "toc_section_display": true,
   "toc_window_display": true
  }
 },
 "nbformat": 4,
 "nbformat_minor": 4
}
