{
 "cells": [
  {
   "cell_type": "markdown",
   "metadata": {
    "toc": true
   },
   "source": [
    "<h1>Sumário<span class=\"tocSkip\"></span></h1>\n",
    "<div class=\"toc\"><ul class=\"toc-item\"><li><span><a href=\"#Introdução\" data-toc-modified-id=\"Introdução-1\"><span class=\"toc-item-num\">1&nbsp;&nbsp;</span>Introdução</a></span></li><li><span><a href=\"#Get-Jupyter-Notebook-filename\" data-toc-modified-id=\"Get-Jupyter-Notebook-filename-2\"><span class=\"toc-item-num\">2&nbsp;&nbsp;</span>Get <em>Jupyter Notebook</em> filename</a></span></li><li><span><a href=\"#Export\" data-toc-modified-id=\"Export-3\"><span class=\"toc-item-num\">3&nbsp;&nbsp;</span>Export</a></span></li><li><span><a href=\"#GitHub\" data-toc-modified-id=\"GitHub-4\"><span class=\"toc-item-num\">4&nbsp;&nbsp;</span>GitHub</a></span></li><li><span><a href=\"#Requirements\" data-toc-modified-id=\"Requirements-5\"><span class=\"toc-item-num\">5&nbsp;&nbsp;</span>Requirements</a></span></li><li><span><a href=\"#Erros\" data-toc-modified-id=\"Erros-6\"><span class=\"toc-item-num\">6&nbsp;&nbsp;</span>Erros</a></span></li><li><span><a href=\"#Referêcias\" data-toc-modified-id=\"Referêcias-7\"><span class=\"toc-item-num\">7&nbsp;&nbsp;</span>Referêcias</a></span></li></ul></div>"
   ]
  },
  {
   "cell_type": "markdown",
   "metadata": {
    "tags": [
     "remove_cell"
    ]
   },
   "source": [
    "# Introdução\n",
    "\n",
    "O *Jupyter Notebook* é a maneira que optei para escrever os códigos na linguagem *Python*, visto que além de rodar os códigos, é possível:\n",
    "1. Documentar os *scripts*, escrevendo o singnificado e objetivo de cada conjunto de comandos;\n",
    "2. Atualizar os meus repositórios na plataforma **GitHub**;\n",
    "3. Trabalhar com uma diversidade de opções de exportação do arquivo em formatos diversos, adaptados até mesmo para as simples leitura, como PDFs e Markdowns.\n",
    "\n",
    "É no procesos de exportação dos arquivos que eu me ative nessa publicação, pois um dos objetivos de longo prazo que busco é exportar relatórios padronizados, para distribuição geral e irrestrita, ou seja, quero algo que não seja inteligível apenas por pessoas que conhecem de programação.\n",
    "\n",
    "Para isso foram aqui apresentados um diversidade de opções para exportação de um arquivo *.ipynb*, sendo possível:\n",
    "- Incluir apenas campos determinados;\n",
    "- Incluir apenas as células que tenham determinada *tag*;\n",
    "- Incluir apenas as células de *markdown*;\n",
    "- Excluir as células de *outputs*."
   ]
  },
  {
   "cell_type": "code",
   "execution_count": null,
   "metadata": {},
   "outputs": [],
   "source": [
    "%run '../codes/files/create_folders.py'\n",
    "\n",
    "create_folders('', folders=['docs'])"
   ]
  },
  {
   "cell_type": "markdown",
   "metadata": {
    "tags": [
     "remove_cell"
    ]
   },
   "source": [
    "# Get *Jupyter Notebook* filename\n",
    "\n",
    "https://stackoverflow.com/questions/12544056/how-do-i-get-the-current-ipython-jupyter-notebook-name"
   ]
  },
  {
   "cell_type": "code",
   "execution_count": null,
   "metadata": {
    "tags": [
     "remove_cell"
    ]
   },
   "outputs": [],
   "source": [
    "%%javascript\n",
    "\n",
    "var kernel = IPython.notebook.kernel;\n",
    "var body = document.body, attribs = body.attributes;\n",
    "var command = 'ipynb_filename = ' + '\"'+attribs['data-notebook-name'].value+'\"';\n",
    "kernel.execute(command);"
   ]
  },
  {
   "cell_type": "code",
   "execution_count": null,
   "metadata": {
    "tags": [
     "remove_cell"
    ]
   },
   "outputs": [],
   "source": [
    "ipynb_filename"
   ]
  },
  {
   "cell_type": "code",
   "execution_count": null,
   "metadata": {},
   "outputs": [],
   "source": [
    "#%run '../codes/files/get_jupyternotebook_name.py'"
   ]
  },
  {
   "cell_type": "code",
   "execution_count": null,
   "metadata": {},
   "outputs": [],
   "source": [
    "#get_jupyternotebook_name()"
   ]
  },
  {
   "cell_type": "code",
   "execution_count": null,
   "metadata": {},
   "outputs": [],
   "source": [
    "%%javascript\n",
    "\n",
    "var kernel = IPython.notebook.kernel;\n",
    "var nb = IPython.notebook;\n",
    "var command = 'ipynb_pathname = \"' + nb.base_url + nb.notebook_path + '\"';\n",
    "kernel.execute(command);"
   ]
  },
  {
   "cell_type": "code",
   "execution_count": null,
   "metadata": {},
   "outputs": [],
   "source": [
    "ipynb_pathname"
   ]
  },
  {
   "cell_type": "markdown",
   "metadata": {},
   "source": [
    "# Export"
   ]
  },
  {
   "cell_type": "code",
   "execution_count": null,
   "metadata": {},
   "outputs": [],
   "source": [
    "%run '../codes/files/export_jupyter.py'\n",
    "\n",
    "export_jupyter(ipynb_filename, 'docs', ['html', 'markdown', 'pdf', 'python'], False)"
   ]
  },
  {
   "cell_type": "code",
   "execution_count": null,
   "metadata": {},
   "outputs": [],
   "source": [
    "#import os\n",
    "#os.system('jupyter-nbconvert --to python jupyter.ipynb')"
   ]
  },
  {
   "cell_type": "code",
   "execution_count": null,
   "metadata": {},
   "outputs": [],
   "source": [
    "#--stdout\n",
    "#--TemplateExporter.exclude_input_prompt=True'"
   ]
  },
  {
   "cell_type": "code",
   "execution_count": null,
   "metadata": {},
   "outputs": [],
   "source": [
    "!jupyter-nbconvert jupyter.ipynb\\\n",
    "--to markdown\\\n",
    "--TagRemovePreprocessor.enabled=True\\\n",
    "--ClearOutputPreprocessor.enabled=True\\\n",
    "--TemplateExporter.exclude_markdown=False\\\n",
    "--TemplateExporter.exclude_code_cell=True\\\n",
    "--TemplateExporter.exclude_output=True\\\n",
    "--TemplateExporter.exclude_raw=False\\\n",
    "--TemplateExporter.exclude_input_prompt=True\\\n",
    "--TagRemovePreprocessor.remove_cell_tags='[\"remove_cell\"]'\\\n",
    "--output Teste"
   ]
  },
  {
   "cell_type": "markdown",
   "metadata": {},
   "source": [
    "Quero saber como exportar somente algumas células.\n",
    "'https://stackoverflow.com/questions/57701538/jupyter-notebook-nbconvert-without-magic-commands-w-o-markdown\n"
   ]
  },
  {
   "cell_type": "markdown",
   "metadata": {},
   "source": [
    "# GitHub\n",
    "\n",
    "A partir do post [How to Git Jupyter Notebooks the Right Way](http://mateos.io/blog/jupyter-notebook-in-git), compreendi que é considerada como *best pratices* no git de projetos escritos em *Jupyter Notebook* a aplicação de um determinado código usando o package *nbstripout*, conforme segue. No vídeo [nbstripout: strip output from Jupyter and IPython notebooks](https://www.youtube.com/watch?v=BEMP4xacrVc) é explicado detalhadamente como o comando atua."
   ]
  },
  {
   "cell_type": "code",
   "execution_count": null,
   "metadata": {},
   "outputs": [],
   "source": [
    "import os\n",
    "os.system('nbstripout --install --attributes .gitattributes')"
   ]
  },
  {
   "cell_type": "code",
   "execution_count": null,
   "metadata": {},
   "outputs": [],
   "source": [
    "import nbstripout\n",
    "nbstripout\n",
    "!nbstripout --install --attributes .gitattributes"
   ]
  },
  {
   "cell_type": "markdown",
   "metadata": {},
   "source": [
    "Criei uma "
   ]
  },
  {
   "cell_type": "code",
   "execution_count": null,
   "metadata": {},
   "outputs": [],
   "source": [
    "%run '../codes/git/update_github.py'\n",
    "git_full('/home/michel/Geodata/SourceCode/package_jupyter', '.', 'Atualizando')"
   ]
  },
  {
   "cell_type": "markdown",
   "metadata": {},
   "source": [
    "# Requirements"
   ]
  },
  {
   "cell_type": "markdown",
   "metadata": {},
   "source": [
    "O comando ```pip freeze``` é o mais difundido na internet para se obter os *requirements.txt*, ou seja, o arquivo com o qual é possível indicar quais os *packages* necessários para rodar um determinado *script*."
   ]
  },
  {
   "cell_type": "code",
   "execution_count": null,
   "metadata": {},
   "outputs": [],
   "source": [
    "pip freeze > requirements.txt"
   ]
  },
  {
   "cell_type": "markdown",
   "metadata": {},
   "source": [
    "Tentei usar também o package ```pipreqs```, porém ele não funciona em *Juptyter Notebook*. Descobri ainda que o comando ``` conda env export > environment.yml``` pode auxiliar na criação destes parâmetros."
   ]
  },
  {
   "cell_type": "markdown",
   "metadata": {},
   "source": [
    "# Erros\n",
    "\n",
    "Em uma tentativa de exportar o *Jupyter Notebook* para PDF tive problemas. O arquivo não era exportado e apresentava a seguinte mensagem de erro:\n",
    "- *nbconvert failed: xelatex not found on PATH, if you have not installed xelatex you may need to do so. Find further instructions at https://nbconvert.readthedocs.io/en/latest/install.html#installing-tex.*\n",
    "\n",
    "Para solucionar, descobri que é necessário instalar, no Linux, akguns pacotes de aplicativos com os seguintes comandos:\n",
    "\n",
    "```sudo apt-get install texlive-xetex texlive-fonts-recommended texlive-generic-recommended```     # Versão Compacta\n",
    "\n",
    "```sudo apt-get install texlive-full```      # Versão Completa"
   ]
  },
  {
   "cell_type": "markdown",
   "metadata": {},
   "source": [
    "# Referêcias\n",
    "\n",
    "\n",
    "[**Jupyter Notebook Extensions**](https://towardsdatascience.com/jupyter-notebook-extensions-517fa69d2231)\n",
    "\n",
    "\n",
    "A partir do post [**28 Jupyter Notebook Tips, Tricks, and Shortcuts**](https://www.dataquest.io/blog/jupyter-notebook-tips-tricks-shortcuts)\n",
    "\n",
    "\n",
    "A partir do post [Link do Folium](https://towardsdatascience.com/jupyter-notebook-extensions-517fa69d2231)"
   ]
  }
 ],
 "metadata": {
  "kernelspec": {
   "display_name": "Python [conda env:pablocarreira-py36] *",
   "language": "python",
   "name": "conda-env-pablocarreira-py36-py"
  },
  "language_info": {
   "codemirror_mode": {
    "name": "ipython",
    "version": 3
   },
   "file_extension": ".py",
   "mimetype": "text/x-python",
   "name": "python",
   "nbconvert_exporter": "python",
   "pygments_lexer": "ipython3",
   "version": "3.6.10"
  },
  "toc": {
   "base_numbering": 1,
   "nav_menu": {},
   "number_sections": true,
   "sideBar": true,
   "skip_h1_title": false,
   "title_cell": "Sumário",
   "title_sidebar": "Contents",
   "toc_cell": true,
   "toc_position": {
    "height": "calc(100% - 180px)",
    "left": "10px",
    "top": "150px",
    "width": "374.4px"
   },
   "toc_section_display": true,
   "toc_window_display": true
  }
 },
 "nbformat": 4,
 "nbformat_minor": 4
}
