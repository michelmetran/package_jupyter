{
 "cells": [
  {
   "cell_type": "markdown",
   "metadata": {
    "tags": [
     "yaml"
    ]
   },
   "source": [
    "---\n",
    "layout: post\n",
    "title: Jupyter Notebook\n",
    "subtitle: Exercícios e Referências\n",
    "tags: [python, pycharm, jupyter, package]\n",
    "image: /img/posts/folium_icon.png\n",
    "bigimg: /img/posts/folium_big.png\n",
    "gh-repo: michelmetran/package_jupyter\n",
    "gh-badge: [follow, star, watch, fork]\n",
    "comments: true\n",
    "\n",
    "---"
   ]
  },
  {
   "cell_type": "markdown",
   "metadata": {
    "tags": [
     "header"
    ]
   },
   "source": [
    "# *Jupyter Notebook*"
   ]
  },
  {
   "cell_type": "markdown",
   "metadata": {},
   "source": [
    "O *Jupyter Notebook* é a maneira que optei para escrever os códigos na linguagem *python*, visto que além de rodar os códigos, é possível:\n",
    "\n",
    "1. Documentar os *scripts*, escrevendo o significado e objetivo de cada conjunto de comandos;\n",
    "2. Atualizar os meus repositórios na plataforma **GitHub**;\n",
    "3. Trabalhar com uma diversidade de opções de exportação do arquivo em formatos diversos, adaptados até mesmo para as simples leitura, como PDFs e Markdowns.\n",
    "\n",
    "Com tais caraterísticas, notei que é possível publicar *posts* diretamente do *Jupyter Notebook*. Aqui pretendo apresentar um pouco das funções que tenho explorado para aperfeiçoar e facilitar minhas publicações no meu site pessoal: https://michelmetran.github.io. E, pesquisando pela internet, descobri que não sou o único a [*Exploring Jupyer Notebook to write a Blog*](https://medium.com/gopypi/exploring-jupyer-notebook-to-write-a-blog-1e7eaa913274), tem muito material a ser explorado..."
   ]
  },
  {
   "cell_type": "code",
   "execution_count": null,
   "metadata": {},
   "outputs": [],
   "source": [
    "import os\n",
    "import json\n",
    "import time\n",
    "import folium\n",
    "import pandas as pd\n",
    "from datetime import date"
   ]
  },
  {
   "cell_type": "code",
   "execution_count": null,
   "metadata": {},
   "outputs": [],
   "source": [
    "[os.makedirs(i, exist_ok=True) for i in ['docs']]"
   ]
  },
  {
   "cell_type": "markdown",
   "metadata": {},
   "source": [
    "# Get *Jupyter Notebook* filename\n",
    "\n",
    "Para as funções que serão apresentadas ao longo desse *script*, a obtenção do nome do arquivo *.ipynb* em uma variável seria de grande ajuda. Não há modo fácil de obter, visto que para todas as opções, é necessário o *java*, que não funciona quando é solicitado que todas as células rodem de uma só vez (Kernel > Run All)."
   ]
  },
  {
   "cell_type": "markdown",
   "metadata": {},
   "source": [
    "## Diretamente na célula\n",
    "\n",
    "Testei diversos comandos para obter o nome do *Jupyter Notebook* em uma variável. A melhor opção que encontrei estava nesse [*post*](https://stackoverflow.com/questions/12544056/how-do-i-get-the-current-ipython-jupyter-notebook-name) que tem diversas outras opções."
   ]
  },
  {
   "cell_type": "code",
   "execution_count": null,
   "metadata": {},
   "outputs": [],
   "source": [
    "%%javascript\n",
    "\n",
    "var kernel = IPython.notebook.kernel;\n",
    "var body = document.body, attribs = body.attributes;\n",
    "var command = 'ipynb_filename = ' + '\"' + attribs['data-notebook-name'].value + '\"';\n",
    "kernel.execute(command);"
   ]
  },
  {
   "cell_type": "code",
   "execution_count": null,
   "metadata": {},
   "outputs": [],
   "source": [
    "#ipynb_filename"
   ]
  },
  {
   "cell_type": "code",
   "execution_count": null,
   "metadata": {},
   "outputs": [],
   "source": [
    "%%javascript\n",
    "\n",
    "var kernel = IPython.notebook.kernel;\n",
    "var nb = IPython.notebook;\n",
    "var command = 'ipynb_pathname = ' + '\"' + nb.base_url + nb.notebook_path + '\"';\n",
    "kernel.execute(command);"
   ]
  },
  {
   "cell_type": "code",
   "execution_count": null,
   "metadata": {},
   "outputs": [],
   "source": [
    "#ipynb_pathname"
   ]
  },
  {
   "cell_type": "markdown",
   "metadata": {},
   "source": [
    "## Com função\n",
    "\n",
    "Usei uma função que peguei na, provavelmente [aqui](https://github.com/jupyter/notebook/issues/1000), para pegar o nome do arquivo *.ipynb*. Atualmente preferi, nas funões que necessitam do nome do arquivo, em escreve-lo como uma constante... evitando o uso do *java* dentro do *Juptyter Notebook*."
   ]
  },
  {
   "cell_type": "code",
   "execution_count": null,
   "metadata": {},
   "outputs": [],
   "source": [
    "# %load '../codes/files/get_jupyternotebook_name.py'\n",
    "def get_jupyternotebook_name():\n",
    "    \"\"\"\n",
    "    Returns the name of the current notebook as a string\n",
    "    From https://mail.scipy.org/pipermail/ipython-dev/2014-June/014096.html\n",
    "    :return: Returns the name of the current notebook as a string\n",
    "    \"\"\"\n",
    "    # Import Packages\n",
    "    from IPython.core.display import Javascript\n",
    "    from IPython.display import display\n",
    "\n",
    "    display(Javascript('IPython.notebook.kernel.execute(\"theNotebook = \" + \\\n",
    "    \"\\'\"+IPython.notebook.notebook_name+\"\\'\");'))\n",
    "\n",
    "    # Result\n",
    "    return theNotebook\n"
   ]
  },
  {
   "cell_type": "code",
   "execution_count": null,
   "metadata": {},
   "outputs": [],
   "source": [
    "name = get_jupyternotebook_name()\n",
    "name"
   ]
  },
  {
   "cell_type": "markdown",
   "metadata": {},
   "source": [
    "# Markdown Cell"
   ]
  },
  {
   "cell_type": "markdown",
   "metadata": {},
   "source": [
    "## Inserindo HTML\n",
    "\n",
    "Sabendo que tanto o *framework* Jerkll, quando o *Jupyter Notebook* utilizam o [BootStrap 4.0](https://getbootstrap.com/docs/4.0/components/alerts/), torna-se possível utilizar alguns parâmetros para renderizar, nas células *markdown* um conteúdo mais interessante, bastando inserir as ```<div>``` abaixo.\n",
    "\n",
    "```html\n",
    "<div class=\"alert alert-success\" role=\"alert\">\n",
    "  This is a success alert—check it out!\n",
    "</div>\n",
    "```\n",
    "\n",
    "\n",
    "<div class=\"alert alert-success\" role=\"alert\">\n",
    "  This is a success alert—check it out!\n",
    "</div>\n",
    "<div class=\"alert alert-danger\" role=\"alert\">\n",
    "  This is a danger alert—check it out!\n",
    "</div>\n",
    "<div class=\"alert alert-warning\" role=\"alert\">\n",
    "  This is a warning alert—check it out!\n",
    "</div>\n",
    "<div class=\"alert alert-info\" role=\"alert\">\n",
    "  This is a info alert—check it out!\n",
    "</div>\n",
    "\n",
    "Ainda é possível criar *box* mais elaborados, escrevendo com os códigos em HTML.\n",
    "\n",
    "<div class=\"alert alert-success\" role=\"alert\">\n",
    "  <strong class=\"alert-heading\">Well done!</strong>\n",
    "  <p>Aww yeah, you successfully read this important alert message. This example text is going to run a bit longer so that you can see how spacing within an alert works with this kind of content.</p>\n",
    "  <hr>\n",
    "  <p class=\"mb-0\">Whenever you need to, be sure to use margin utilities to keep things nice and tidy.</p>\n",
    "</div>"
   ]
  },
  {
   "cell_type": "markdown",
   "metadata": {},
   "source": [
    "Além de diversas outros elementos do [Bootstrap](https://getbootstrap.com/docs/4.0/getting-started/introduction/) que podem ser inseridas, por exemplo:\n",
    "\n",
    "<nav aria-label=\"...\">\n",
    "  <ul class=\"pagination\">\n",
    "    <li class=\"page-item disabled\">\n",
    "      <a class=\"page-link\" href=\"#\" tabindex=\"-1\">Previous</a>\n",
    "    </li>\n",
    "    <li class=\"page-item\"><a class=\"page-link\" href=\"#\">1</a></li>\n",
    "    <li class=\"page-item active\">\n",
    "      <a class=\"page-link\" href=\"#\">2 <span class=\"sr-only\">(current)</span></a>\n",
    "    </li>\n",
    "    <li class=\"page-item\"><a class=\"page-link\" href=\"#\">3</a></li>\n",
    "    <li class=\"page-item\">\n",
    "      <a class=\"page-link\" href=\"#\">Next</a>\n",
    "    </li>\n",
    "  </ul>\n",
    "</nav>"
   ]
  },
  {
   "cell_type": "markdown",
   "metadata": {},
   "source": [
    "## Variáveis em *Markdowns*"
   ]
  },
  {
   "cell_type": "code",
   "execution_count": null,
   "metadata": {},
   "outputs": [],
   "source": [
    "# {{a}}\n",
    "a = 10"
   ]
  },
  {
   "cell_type": "markdown",
   "metadata": {},
   "source": [
    "Para inserir uma variável em uma célula markdow para eu inserir a variável entre colchetes duplos, por exemplo {{a}}. Logo, se eu alterar o valor de a para qualquer um terei que **a={{a}}**."
   ]
  },
  {
   "cell_type": "markdown",
   "metadata": {},
   "source": [
    "O mesmo pode ser feito com tabelas. Em tentativa de inserir tabelas diretamente do Pandas não obtive sucesso... Depois temos dataframe modificado pelo *.to_html()*, [função](https://pandas.pydata.org/pandas-docs/stable/reference/api/pandas.DataFrame.to_html.html) que fornece várias opções a serem exploradas."
   ]
  },
  {
   "cell_type": "code",
   "execution_count": null,
   "metadata": {},
   "outputs": [],
   "source": [
    "df = pd.DataFrame({\"A\": [1.0, 2.2, 3.6666], \"B\": [4.12134, 5.674, 6.13215]})"
   ]
  },
  {
   "cell_type": "code",
   "execution_count": null,
   "metadata": {},
   "outputs": [],
   "source": [
    "df_html = df.to_html(index=False, decimal='.', notebook=True, justify='center')\n",
    "df_html = df_html.replace('\\n', '')"
   ]
  },
  {
   "cell_type": "markdown",
   "metadata": {},
   "source": [
    "\n",
    "{{df_html}}"
   ]
  },
  {
   "cell_type": "markdown",
   "metadata": {},
   "source": [
    "## Linhas de Tabelas\n",
    "\n",
    "Descobri que [nesse *post*](https://stackoverflow.com/questions/38783027/jupyter-notebook-display-two-pandas-tables-side-by-side) que é possível trabalhar para inserir também mais de uma tabela alinhada, mas isso se dá em uma célula de *output* (e não *markdown*)."
   ]
  },
  {
   "cell_type": "code",
   "execution_count": null,
   "metadata": {},
   "outputs": [],
   "source": [
    "import pandas as pd\n",
    "import numpy as np\n",
    "from IPython.display import display, HTML\n",
    "\n",
    "CSS = \"\"\"\n",
    ".output {\n",
    "    flex-direction: row;\n",
    "}\n",
    "\"\"\"\n",
    "\n",
    "HTML('<style>{}</style>'.format(CSS))"
   ]
  },
  {
   "cell_type": "code",
   "execution_count": null,
   "metadata": {},
   "outputs": [],
   "source": [
    "display(df)\n",
    "display(df)\n",
    "display(df)"
   ]
  },
  {
   "cell_type": "markdown",
   "metadata": {},
   "source": [
    "## Comandos do Sistema\n",
    "\n",
    "Praticamente  qualquer  comando  do  sistema  pode  ser  acessado  usando previamente **!**,  o  qual  passa qualquer comando subsequente diretamente para o sistema operacional. Você pode até usar variáveis python em comandos enviados para o sistema operacional!"
   ]
  },
  {
   "cell_type": "code",
   "execution_count": null,
   "metadata": {},
   "outputs": [],
   "source": [
    "!ls"
   ]
  },
  {
   "cell_type": "markdown",
   "metadata": {},
   "source": [
    "É possível trabalhar com variáveis entre o *python* e esses comandos do sistema."
   ]
  },
  {
   "cell_type": "code",
   "execution_count": null,
   "metadata": {},
   "outputs": [],
   "source": [
    "file_type = 'ipynb'\n",
    "\n",
    "!ls ./*$file_type"
   ]
  },
  {
   "cell_type": "markdown",
   "metadata": {},
   "source": [
    "# Exportando o _Juptyter Notebook_\n",
    "\n",
    "Os arquivos *Jupyter Notebook* podem ser exportados em diversos formatos, seja através do menu de opções, ou através dos comandos. Ao exportar, é possível definir diversas opções que limitam o que será exportado, podendo escolher determinados tipos de células ou, até mesmo, células invidivuais.\n",
    "\n",
    "No *post* [Jupyter Notebook nbconvert without Magic Commands/ w/o Markdown](https://stackoverflow.com/questions/57701538/jupyter-notebook-nbconvert-without-magic-commands-w-o-markdown) é apresentado algumas opções de exportação. A página oficial do [NbConvert](https://nbconvert.readthedocs.io/) tem todos os parâmetros, tanto para linhas de comando quanto para *python*."
   ]
  },
  {
   "cell_type": "markdown",
   "metadata": {},
   "source": [
    "## Linha de Comando\n",
    "\n",
    "a maneira mais simples de exportar um arquivo é por meio do comando abaixo. O uso do ponto de explamação no início do comando é pelo fato desse comando ser \"nativo\" da linha de comando, e não do python."
   ]
  },
  {
   "cell_type": "code",
   "execution_count": null,
   "metadata": {},
   "outputs": [],
   "source": [
    "!jupyter-nbconvert jupyter.ipynb --to html --output docs/jupyter.html"
   ]
  },
  {
   "cell_type": "markdown",
   "metadata": {},
   "source": [
    "Uma vez compreendida a função e sabendo que é possível inserir variáveis criadas no *python* em comandos de \"linha de comando\", criei a seguinte rotina."
   ]
  },
  {
   "cell_type": "code",
   "execution_count": null,
   "metadata": {},
   "outputs": [],
   "source": [
    "# Input\n",
    "inp = 'jupyter.ipynb'\n",
    "\n",
    "# Output\n",
    "out = os.path.join('docs', inp.split('.')[0])\n",
    "\n",
    "# Extension to export ('html', 'html_embed', 'markdown', 'latex', 'pdf', 'python')\n",
    "ext = 'html_embed'\n",
    "\n",
    "# Remove cells with tag\n",
    "tag = (\"['\" + '\"remove_cell\"' + \", \" + '\"yaml\"' + \"']\")\n",
    "!echo $tag"
   ]
  },
  {
   "cell_type": "code",
   "execution_count": null,
   "metadata": {},
   "outputs": [],
   "source": [
    "!jupyter-nbconvert $inp\\\n",
    "--to $ext\\\n",
    "--TagRemovePreprocessor.enabled=True\\\n",
    "--TagRemovePreprocessor.remove_cell_tags=$tag\\\n",
    "--ClearOutputPreprocessor.enabled=True\\\n",
    "--TemplateExporter.exclude_markdown=False\\\n",
    "--TemplateExporter.exclude_code_cell=False\\\n",
    "--TemplateExporter.exclude_output=True\\\n",
    "--TemplateExporter.exclude_raw=False\\\n",
    "--TemplateExporter.exclude_input_prompt=True\\\n",
    "--TemplateExporter.exclude_output_prompt=True\\\n",
    "--output $out"
   ]
  },
  {
   "cell_type": "markdown",
   "metadata": {},
   "source": [
    "## Função\n",
    "\n",
    "Abaixo mostro uma função que escrevi para facilitar o processo de exportação do arquivo em diferentes locais do PC para, posteriormente, atualizar os repositórios contidos no <a title=\"Link do GitHub\" href=\"https://github.com/michelmetran\" target=\"_blank\">*GitHub*</a>. Incorporei diversas opções para exportação no script *../codes/files/export_jupyter.py*, quando notei que seria mais fácil usar os códigos diretamente, sem funções."
   ]
  },
  {
   "cell_type": "code",
   "execution_count": null,
   "metadata": {},
   "outputs": [],
   "source": [
    "# %load '../codes/files/export_jupyter.py'\n",
    "def export_jupyter(filename, path, extensions=['html', 'markdown', 'latex', 'pdf', 'python'], today=True):\n",
    "    \"\"\"\n",
    "    Export .ipynb file to others formats\n",
    "    :return: File in other formats\n",
    "    \"\"\"\n",
    "    # Import Packages\n",
    "    import os\n",
    "    import datetime\n",
    "\n",
    "    # Data\n",
    "    timestamp = datetime.datetime.now()\n",
    "    srt_today = (str(timestamp.year) + '-' +\n",
    "                 str(f\"{timestamp.month:02d}\") + '-' +\n",
    "                 str(f\"{timestamp.day:02d}\"))\n",
    "\n",
    "    import os\n",
    "    filter = \"['remove_cell']\"\n",
    "    options = ('--TagRemovePreprocessor.enabled=True '\n",
    "               '--ClearOutputPreprocessor.enabled=True '\n",
    "               '--TemplateExporter.exclude_markdown=False '\n",
    "               '--TemplateExporter.exclude_code_cell=True '\n",
    "               '--TemplateExporter.exclude_output=True '\n",
    "               '--TemplateExporter.exclude_raw=False '\n",
    "               '--TemplateExporter.exclude_input_prompt=True '\n",
    "               '--TagRemovePreprocessor.remove_cell_tags=\"' + filter + '\" ')\n",
    "\n",
    "    # Extensions\n",
    "    for extension in extensions:\n",
    "        if today==True:\n",
    "            command = ('jupyter nbconvert {} --to {} {} --output {}'.\n",
    "                       format(filename,\n",
    "                              extension,\n",
    "                              options,\n",
    "                              os.path.join(path, srt_today+'-'+filename.split('.')[0])))\n",
    "            #print(command)\n",
    "            os.system(command)\n",
    "            print('Arquivo {} exportado corretamente para o formato {} usando prefixo da data.'.\n",
    "                  format(filename, extension))\n",
    "\n",
    "        else:\n",
    "            command = ('jupyter nbconvert {} --to {} {} --output {}'.\n",
    "                       format(filename,\n",
    "                              extension,\n",
    "                              options,\n",
    "                              os.path.join(path, filename.split('.')[0])))\n",
    "            #print(command)\n",
    "            os.system(command)\n",
    "            print('Arquivo {} exportado corretamente para o formato {} sem usar prefixo da data.'.\n",
    "                  format(filename, extension))\n"
   ]
  },
  {
   "cell_type": "code",
   "execution_count": null,
   "metadata": {},
   "outputs": [],
   "source": [
    "#export_jupyter(ipynb_filename, 'docs', ['html', 'markdown', 'pdf', 'python'], False)"
   ]
  },
  {
   "cell_type": "markdown",
   "metadata": {},
   "source": [
    "## Exportar para Word (*.doc*)\n",
    "\n",
    "Usando [**Pandoc**](https://pandoc.org/) descobri que é possível exportar para ***.doc***.\n",
    "Em tentativos, notei alguns problemas de incompatibilidade, mas pode auxiliar em algum momento."
   ]
  },
  {
   "cell_type": "code",
   "execution_count": null,
   "metadata": {},
   "outputs": [],
   "source": [
    "ipynb_filename = 'jupyter.ipynb'\n",
    "\n",
    "file_wo_ext = ipynb_filename.split('.')[0]\n",
    "file_md = file_wo_ext+'.md'\n",
    "file_doc = file_wo_ext+'.docx'\n",
    "\n",
    "file_doc = os.path.join('docs', file_doc)\n",
    "file_md = os.path.join('docs', file_md)"
   ]
  },
  {
   "cell_type": "code",
   "execution_count": null,
   "metadata": {},
   "outputs": [],
   "source": [
    "!pandoc -o $file_doc -f markdown -t docx $file_md --reference-links"
   ]
  },
  {
   "cell_type": "markdown",
   "metadata": {},
   "source": [
    "# GitHub\n",
    "\n",
    "Diversos projetos que tenho feito, com *scripts* do *Jupyter Notebook*, estão listados no *GitHub*. Alguns destes *scripts* são, também, publicações no [meu site pessoal](https://michelmetran.github.io/), o qual também está hospedado no *GitHub*.\n",
    "\n",
    "Dessa maneira, busquei fazer com que os comandos para atualização dos repositórios já constassem dentro dos *scripts*, de modo que modificações e ajustes fossem facilmente compartilhados. Ainda, como alguns *scripts* dão origem a *posts* em meu site, estes também são atualizados."
   ]
  },
  {
   "cell_type": "markdown",
   "metadata": {},
   "source": [
    "## *NbStripout*\n",
    "\n",
    "Inicialmente compreendi que é considerada como *best pratices* no *git* de projetos escritos em *Jupyter Notebook* a aplicação de um determinado código usando o package *nbstripout*, para \"limpar o cache\" do arquivo. No *post* [*How to Git Jupyter Notebooks the Right Way*](http://mateos.io/blog/jupyter-notebook-in-git) e no vídeo [*nbstripout: strip output from Jupyter and IPython notebooks*](https://www.youtube.com/watch?v=BEMP4xacrVc) é explicado detalhadamente o funcionamento."
   ]
  },
  {
   "cell_type": "code",
   "execution_count": null,
   "metadata": {},
   "outputs": [],
   "source": [
    "!nbstripout --install --attributes .gitattributes"
   ]
  },
  {
   "cell_type": "markdown",
   "metadata": {},
   "source": [
    "## *Git* de linha de comando\n",
    "\n",
    "Basta atualizar o repositório com os comandos do *git* usualmente aplicados na linha de comando. Quando se deseja rodar comandos da linha decomando dentro de um *Jupyter Notebook*, basta adicionar o ponto de exclamação no início do comando.\n",
    "\n",
    "**Atualmente é a minha solução preferida**, mas testei algumas outras anteriormente, conforme será demonstrado abaixo. Fiz essa opção pois acho mais prático utilizar os comandos \"originais\" do *git*, para manusear os repositórios, e me dá a flexibilidade de me familharizar com os comandos para usar em outros projetos que não envolvam python (e integrações)."
   ]
  },
  {
   "cell_type": "code",
   "execution_count": null,
   "metadata": {},
   "outputs": [],
   "source": [
    "!git status\n",
    "!git add .\n",
    "!git commit -m 'Atualização do repositório'\n",
    "!git push"
   ]
  },
  {
   "cell_type": "markdown",
   "metadata": {},
   "source": [
    "## Integrações do *Git*  com *Python*\n",
    "\n",
    "Existem diversos módulos para promover a integração do git e python. Dentre elas destaca-se o pacote [GitPython](https://gitpython.readthedocs.io/), porém existem outros. Muito foi discutido no *post* [***Python Git Module experiences?***](https://stackoverflow.com/questions/1456269/python-git-module-experiences). Testei algumas delas mas preferi dedicar tempo a aprender outras coisas."
   ]
  },
  {
   "cell_type": "markdown",
   "metadata": {},
   "source": [
    "## Funções e *Subprocess*\n",
    "\n",
    "Criei uma função, utilizando o *subprocess*, para exportar o *Jupyter Notebook* em diversos formatos. Aproveitei para incorporar o comando do ```nbstripout``` na função que faz o *commit*, visando simplificar as coisas. Com o tempo abandonei o uso, por não gostava dos *logs do outputs*."
   ]
  },
  {
   "cell_type": "code",
   "execution_count": null,
   "metadata": {},
   "outputs": [],
   "source": [
    "# %load '../codes/git/update_github.py'\n",
    "import subprocess\n",
    "\n",
    "def git_add(repo, files):\n",
    "    cmd = 'git add ' + files\n",
    "    pipe = subprocess.Popen(cmd, shell=True, cwd=repo, stdout=subprocess.PIPE, stderr=subprocess.PIPE)\n",
    "    (out, error) = pipe.communicate()\n",
    "    print(out, error)\n",
    "    pipe.wait()\n",
    "    return\n",
    "\n",
    "def git_commit(repo, msg):\n",
    "    cmd = 'git commit -am \"%s\"' % msg\n",
    "    pipe = subprocess.Popen(cmd, shell=True, cwd=repo, stdout=subprocess.PIPE, stderr=subprocess.PIPE)\n",
    "    (out, error) = pipe.communicate()\n",
    "    print(out, error)\n",
    "    pipe.wait()\n",
    "    return\n",
    "\n",
    "def git_push(repo):\n",
    "    cmd = 'git push '\n",
    "    pipe = subprocess.Popen(cmd, shell=True, cwd=repo, stdout=subprocess.PIPE, stderr=subprocess.PIPE)\n",
    "    (out, error) = pipe.communicate()\n",
    "    print(out, error)\n",
    "    pipe.wait()\n",
    "    return\n",
    "\n",
    "def git_full(repo, files, msg):\n",
    "    # Strip Out\n",
    "    import os\n",
    "    os.system('nbstripout --install --attributes .gitattributes')\n",
    "\n",
    "    # Function to comit\n",
    "    git_add(repo, files)\n",
    "    git_commit(repo, msg)\n",
    "    git_push(repo)\n",
    "    print('Done!!')\n",
    "    return\n"
   ]
  },
  {
   "cell_type": "markdown",
   "metadata": {},
   "source": [
    "# *Requirements*\n",
    "\n",
    "O arquivo *requirements.txt*, usualmente localizado na pasta-raiz do projeto, tem a finalidade de listar quais são os *packages* (ou pacotes) que foram utilizados naquele determinado projeto.\n",
    "\n",
    "Muitas vezes, no curso de um *script*, é possível instalar uma dependência utilizando o ```pip install {nome do pacote}```, porém o arquivo *requirements.txt* se faz fundamental quando os projetos serão acessados por aplicações, tais como ***Django***, ***Flask***, ***Heroku*** e ***MyBinder***, por exemplo, sendo esse o motivo principal para criar esse arquivo."
   ]
  },
  {
   "cell_type": "markdown",
   "metadata": {},
   "source": [
    "## *Pip Freeze*\n",
    "\n",
    "O comando ```pip freeze``` é o mais difundido na internet para se obter os *requirements.txt*, ou seja, o arquivo com o qual é possível indicar quais os *packages* (ou pacotes) necessários para rodar um determinado *script*. O problema é que ele não lista **APENAS** os *packages* utilizados em um determinado *script*, listando **TODOS** os pactos de instalados no Python.\n",
    "\n",
    "Particularmente eu utilizo *enviroments* do Conda, com dezenas de pacotes instalados em cada *enviroments*, e os arquivos *requirements.txt* ficavam imensos, com diversos problemas."
   ]
  },
  {
   "cell_type": "code",
   "execution_count": null,
   "metadata": {},
   "outputs": [],
   "source": [
    "#pip freeze > requirements.txt"
   ]
  },
  {
   "cell_type": "markdown",
   "metadata": {},
   "source": [
    "## *Pipreqs*\n",
    "\n",
    "O pacote [**pipreqs**](https://pypi.org/project/pipreqs/), pelas descrições, pareceu atender a demanda de lista **APENAS** os pacotes de um determinado projeto. Porém ele não funciona diretamente no *Juptyter Notebook*, motivo que foi preciso inserir um ponto de exclamação no início do comando, para que o *Juptyter Notebook* interpretasse que se trata de um comando a ser feito em bash."
   ]
  },
  {
   "cell_type": "code",
   "execution_count": null,
   "metadata": {},
   "outputs": [],
   "source": [
    "!pipreqs 'docs' --force --debug --print"
   ]
  },
  {
   "cell_type": "markdown",
   "metadata": {},
   "source": [
    "## *Enviromental.yml*\n",
    "\n",
    "Descobri ainda que o comando ``` conda env export > environment.yml``` pode auxiliar na criação destes parâmetros, não sendo exatamente o que se busca, ou seja, o arquivo *requirements.txt* necessário para aplicações."
   ]
  },
  {
   "cell_type": "code",
   "execution_count": null,
   "metadata": {},
   "outputs": [],
   "source": [
    "#!conda env export > environment.yml"
   ]
  },
  {
   "cell_type": "markdown",
   "metadata": {},
   "source": [
    "# Erros\n",
    "\n",
    "Em uma tentativa de exportar o *Jupyter Notebook* para PDF tive problemas. O arquivo não era exportado e apresentava a seguinte mensagem de erro:\n",
    "- *nbconvert failed: xelatex not found on PATH, if you have not installed xelatex you may need to do so. Find further instructions at https://nbconvert.readthedocs.io/en/latest/install.html#installing-tex.*\n",
    "\n",
    "Para solucionar, descobri que é necessário instalar, no Linux, akguns pacotes de aplicativos com os seguintes comandos, sendo o primeiro uma instalação mais compacta e o segundo uma instalação completa.\n",
    "\n",
    "```sudo apt-get install texlive-xetex texlive-fonts-recommended texlive-generic-recommended```\n",
    "\n",
    "```sudo apt-get install texlive-full```\n",
    "\n",
    "# Referêcias\n",
    "\n",
    "Há muita informação na internet sobre funcionalidades do *Jupyter Notebook*. Apenas para exemplificar, usei particialmente algumas das funções e truques apresentados em [**Jupyter Notebook Extensions**](https://towardsdatascience.com/jupyter-notebook-extensions-517fa69d2231) e [**28 Jupyter Notebook Tips, Tricks, and Shortcuts**](https://www.dataquest.io/blog/jupyter-notebook-tips-tricks-shortcuts)."
   ]
  },
  {
   "cell_type": "markdown",
   "metadata": {
    "tags": [
     "remove_cell"
    ]
   },
   "source": [
    "___\n",
    "\n",
    "# Encerramento"
   ]
  },
  {
   "cell_type": "markdown",
   "metadata": {
    "tags": [
     "remove_cell"
    ]
   },
   "source": [
    "## *Export to*  docs"
   ]
  },
  {
   "cell_type": "code",
   "execution_count": null,
   "metadata": {
    "tags": [
     "remove_cell"
    ]
   },
   "outputs": [],
   "source": [
    "# Input\n",
    "inp = 'jupyter.ipynb'\n",
    "\n",
    "# Output\n",
    "out = os.path.join('docs', inp.split('.')[0])\n",
    "\n",
    "# Extension to export ('html', 'html_embed', 'markdown', 'latex', 'pdf', 'python')\n",
    "ext = 'html_embed'\n",
    "\n",
    "# Remove cells with tag\n",
    "tag = (\"['\" + '\"remove_cell\"' + \", \" + '\"yaml\"' + \"']\")\n",
    "!echo $tag"
   ]
  },
  {
   "cell_type": "code",
   "execution_count": null,
   "metadata": {
    "tags": [
     "remove_cell"
    ]
   },
   "outputs": [],
   "source": [
    "!jupyter-nbconvert $inp\\\n",
    "--to $ext\\\n",
    "--TagRemovePreprocessor.enabled=True\\\n",
    "--TagRemovePreprocessor.remove_cell_tags=$tag\\\n",
    "--ClearOutputPreprocessor.enabled=True\\\n",
    "--TemplateExporter.exclude_markdown=False\\\n",
    "--TemplateExporter.exclude_code_cell=False\\\n",
    "--TemplateExporter.exclude_output=True\\\n",
    "--TemplateExporter.exclude_raw=False\\\n",
    "--TemplateExporter.exclude_input_prompt=True\\\n",
    "--TemplateExporter.exclude_output_prompt=True\\\n",
    "--output $out"
   ]
  },
  {
   "cell_type": "markdown",
   "metadata": {
    "tags": [
     "remove_cell"
    ]
   },
   "source": [
    "## *Export to* michelmetran.github.io"
   ]
  },
  {
   "cell_type": "code",
   "execution_count": null,
   "metadata": {
    "tags": [
     "remove_cell"
    ]
   },
   "outputs": [],
   "source": [
    "# Parameters\n",
    "day = date.today().strftime('%Y-%m-%d')\n",
    "day = '2020-06-11'\n",
    "\n",
    "# Output\n",
    "out = os.path.join('../michelmetran.github.io/_posts', day + '-' + inp.split('.')[0])\n",
    "\n",
    "# Extension to export ('html', 'markdown', 'latex', 'pdf', 'python')\n",
    "ext = 'markdown'\n",
    "\n",
    "# Remove cells with tag\n",
    "tag = (\"['\" + '\"remove_cell\"' + \", \" + '\"header\"' + \"']\")\n",
    "!echo $tag"
   ]
  },
  {
   "cell_type": "code",
   "execution_count": null,
   "metadata": {
    "tags": [
     "remove_cell"
    ]
   },
   "outputs": [],
   "source": [
    "!jupyter-nbconvert $inp\\\n",
    "--to $ext\\\n",
    "--TagRemovePreprocessor.enabled=True\\\n",
    "--TagRemovePreprocessor.remove_cell_tags=$tag\\\n",
    "--ClearOutputPreprocessor.enabled=True\\\n",
    "--TemplateExporter.exclude_markdown=False\\\n",
    "--TemplateExporter.exclude_code_cell=False\\\n",
    "--TemplateExporter.exclude_output=True\\\n",
    "--TemplateExporter.exclude_raw=False\\\n",
    "--TemplateExporter.exclude_input_prompt=True\\\n",
    "--TemplateExporter.exclude_output_prompt=True\\\n",
    "--output $out"
   ]
  },
  {
   "cell_type": "markdown",
   "metadata": {
    "tags": [
     "remove_cell"
    ]
   },
   "source": [
    "## *Requirements*"
   ]
  },
  {
   "cell_type": "code",
   "execution_count": null,
   "metadata": {
    "tags": [
     "remove_cell"
    ]
   },
   "outputs": [],
   "source": [
    "# Output\n",
    "out = os.path.join(inp.split('.')[0])\n",
    "!jupyter-nbconvert $inp --to python --output $out\n",
    "\n",
    "print('-'*80)\n",
    "!pipreqs '.' --force --debug\n",
    "\n",
    "print('-'*80)\n",
    "os.remove(out+'.py')\n",
    "print('Arquivo {} deletado com sucesso!'.format(out+'.py'))"
   ]
  },
  {
   "cell_type": "markdown",
   "metadata": {
    "tags": [
     "remove_cell"
    ]
   },
   "source": [
    "## *GitHub* this project"
   ]
  },
  {
   "cell_type": "code",
   "execution_count": null,
   "metadata": {
    "tags": [
     "remove_cell"
    ]
   },
   "outputs": [],
   "source": [
    "!nbstripout --install --attributes .gitattributes\n",
    "!git status\n",
    "!git add .\n",
    "!git commit -m 'Arrumações Gerais'\n",
    "!git push origin master"
   ]
  },
  {
   "cell_type": "markdown",
   "metadata": {
    "tags": [
     "remove_cell"
    ]
   },
   "source": [
    "## *GitHub* michelmetran.github.io"
   ]
  },
  {
   "cell_type": "code",
   "execution_count": null,
   "metadata": {
    "tags": [
     "remove_cell"
    ]
   },
   "outputs": [],
   "source": [
    "print('-'*80)\n",
    "path_cwd = os.getcwd()\n",
    "print('O diretório atual é {}'.format(path_cwd))\n",
    "path_new = '../michelmetran.github.io'\n",
    "os.chdir(path_new)\n",
    "print('Mudei para o diretório atual é {}'.format(path_new))\n",
    "\n",
    "print('-'*80)\n",
    "!nbstripout --install --attributes .gitattributes\n",
    "!git status\n",
    "!git add .\n",
    "!git commit -m 'Arrumações Gerais'\n",
    "!git push origin master\n",
    "\n",
    "print('-'*80)\n",
    "os.chdir(path_cwd)\n",
    "print('Retornei para o diretório {}'.format(path_cwd))\n",
    "print('-'*80)"
   ]
  },
  {
   "cell_type": "code",
   "execution_count": null,
   "metadata": {
    "tags": [
     "remove_cell"
    ]
   },
   "outputs": [],
   "source": []
  }
 ],
 "metadata": {
  "kernelspec": {
   "display_name": "Python [conda env:pablocarreira-py38] *",
   "language": "python",
   "name": "conda-env-pablocarreira-py38-py"
  },
  "language_info": {
   "codemirror_mode": {
    "name": "ipython",
    "version": 3
   },
   "file_extension": ".py",
   "mimetype": "text/x-python",
   "name": "python",
   "nbconvert_exporter": "python",
   "pygments_lexer": "ipython3",
   "version": "3.8.3"
  },
  "toc": {
   "base_numbering": 1,
   "nav_menu": {},
   "number_sections": true,
   "sideBar": true,
   "skip_h1_title": false,
   "title_cell": "Sumário",
   "title_sidebar": "Contents",
   "toc_cell": false,
   "toc_position": {
    "height": "calc(100% - 180px)",
    "left": "10px",
    "top": "150px",
    "width": "296.4px"
   },
   "toc_section_display": true,
   "toc_window_display": true
  }
 },
 "nbformat": 4,
 "nbformat_minor": 4
}
